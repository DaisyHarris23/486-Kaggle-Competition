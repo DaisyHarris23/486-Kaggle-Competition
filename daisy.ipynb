{
 "cells": [
  {
   "cell_type": "code",
   "execution_count": 1,
   "metadata": {},
   "outputs": [],
   "source": [
    "import pandas as pd\n",
    "import numpy as np\n",
    "from sklearn.pipeline import Pipeline\n",
    "from sklearn.impute import SimpleImputer\n",
    "from sklearn.preprocessing import PolynomialFeatures, StandardScaler, OneHotEncoder, FunctionTransformer\n",
    "from sklearn.linear_model import LinearRegression, RidgeCV, LassoCV, Lasso\n",
    "from sklearn.model_selection import train_test_split, GridSearchCV, RandomizedSearchCV\n",
    "from sklearn.metrics import mean_squared_error, accuracy_score, mean_absolute_error\n",
    "from sklearn.neighbors import KNeighborsRegressor, KNeighborsClassifier\n",
    "from sklearn.feature_selection import SelectPercentile, f_regression\n",
    "from sklearn.compose import ColumnTransformer\n",
    "from sklearn.tree import DecisionTreeRegressor\n",
    "from sklearn.svm import SVR \n",
    "\n",
    "from sklearn.ensemble import StackingRegressor, VotingRegressor, RandomForestRegressor"
   ]
  },
  {
   "cell_type": "code",
   "execution_count": 2,
   "metadata": {},
   "outputs": [],
   "source": [
    "test = pd.read_csv('test.csv')\n",
    "train = pd.read_csv('train.csv')\n",
    "\n",
    "train['amenities_empty'] = train[\"amenities\"].str.contains(\"\\[\\]\").astype('object')\n",
    "\n",
    "train['bathrooms'] = train['bathrooms_text'].str.extract(r'(\\d+\\.\\d+|\\d+)').astype('float')\n",
    "\n",
    "\n",
    "train['type'] = 'other'\n",
    "\n",
    "train.loc[train['property_type'].str.contains('room', case=False), 'type'] = 'room'\n",
    "train.loc[train['property_type'].str.contains('Entire', case=False), 'type'] = 'entire'"
   ]
  },
  {
   "cell_type": "code",
   "execution_count": 3,
   "metadata": {},
   "outputs": [],
   "source": [
    "y = train.loc[:, ['price']]\n",
    "X = train.loc[:, [#'host_location', #maybe\n",
    "                  #'host_response_time', #maybe\n",
    "                  'host_acceptance_rate', \n",
    "                  'host_is_superhost', \n",
    "                  'neighbourhood_cleansed', \n",
    "                  'property_type', #'room_type'?\n",
    "                  'accommodates', \n",
    "                  'bathrooms', \n",
    "                  'beds',  #not bedrooms\n",
    "                  'amenities', # or if it even has amenities, or pools vs hottub or pets\n",
    "                  #'maximum_maximum_nights', \n",
    "                  'maximum_nights',\n",
    "                  'number_of_reviews', \n",
    "                  #'number_of_reviews_ltm',  #check this\n",
    "                  'instant_bookable'\n",
    "]] "
   ]
  },
  {
   "cell_type": "code",
   "execution_count": 4,
   "metadata": {},
   "outputs": [],
   "source": [
    "X_train, X_test, y_train, y_test = train_test_split(X, y, test_size=.2, random_state=307)\n",
    "\n",
    "cat_features = X_train.columns[X_train.dtypes==object]\n",
    "num_features = X_train.columns[X_train.dtypes!=object]\n"
   ]
  },
  {
   "cell_type": "code",
   "execution_count": 5,
   "metadata": {},
   "outputs": [],
   "source": [
    "numeric_transformer = Pipeline(\n",
    "    steps=[(\"imputer\", SimpleImputer()),\n",
    "           ('poly', PolynomialFeatures(degree=2, include_bias=False)),\n",
    "           (\"scaler\", StandardScaler())])\n",
    "\n",
    "categorical_transformer = Pipeline(\n",
    "    steps=[\n",
    "        (\"imputer\", SimpleImputer(strategy=\"most_frequent\")),\n",
    "        (\"encoder\", OneHotEncoder(sparse_output=False, handle_unknown=\"ignore\")),\n",
    "        (\"selector\", SelectPercentile(f_regression, percentile=50))])\n",
    "\n",
    "preprocessor = ColumnTransformer(\n",
    "    transformers=[\n",
    "        (\"num\", numeric_transformer, num_features),\n",
    "        (\"cat\", categorical_transformer, cat_features)])\n",
    "\n",
    "\n",
    "svr_pipe = Pipeline(\n",
    "    steps=[(\"preprocessor\", preprocessor), \n",
    "           (\"model\", SVR())])"
   ]
  },
  {
   "cell_type": "code",
   "execution_count": null,
   "metadata": {},
   "outputs": [],
   "source": [
    "numeric = Pipeline(steps=[('impute', SimpleImputer(strategy='median')), \n",
    "                 ('polynomial', PolynomialFeatures(degree = 2, include_bias=False)),\n",
    "                 ('standardize', StandardScaler()),\n",
    "                 ('percent', SelectPercentile(f_regression, percentile=40))\n",
    "                 ])\n",
    "\n",
    "categorical = Pipeline(steps=[('impute2', SimpleImputer(strategy='most_frequent')),\n",
    "                     ('one_hot', OneHotEncoder(sparse_output=False, handle_unknown='ignore')),\n",
    "                     ('percent', SelectPercentile(f_regression, percentile=60))\n",
    "                     ])\n",
    "\n",
    "preprocessor = ColumnTransformer(\n",
    "    transformers=[\n",
    "        (\"numeric\", numeric, num_features),\n",
    "        (\"categorical\", categorical, cat_features)\n",
    "    ]\n",
    ")\n",
    "\n",
    "\n",
    "tree_pipe = Pipeline(\n",
    "    steps=[('preprocessor', preprocessor),\n",
    "           ('model', DecisionTreeRegressor(random_state=486))\n",
    "           ]\n",
    ")"
   ]
  },
  {
   "cell_type": "code",
   "execution_count": null,
   "metadata": {},
   "outputs": [],
   "source": [
    "numeric = Pipeline(steps=[('impute', SimpleImputer(strategy='median')), \n",
    "                 ('polynomial', PolynomialFeatures(degree = 2, include_bias=False)),\n",
    "                 ('standardize', StandardScaler()),\n",
    "                 #('percent', SelectPercentile(f_regression, percentile=40))\n",
    "                 ])\n",
    "\n",
    "categorical = Pipeline(steps=[('impute2', SimpleImputer(strategy='most_frequent')),\n",
    "                     ('one_hot', OneHotEncoder(sparse_output=False, handle_unknown='ignore')),\n",
    "                     ('percent', SelectPercentile(f_regression, percentile=60))\n",
    "                     ])\n",
    "\n",
    "preprocessor = ColumnTransformer(\n",
    "    transformers=[\n",
    "        (\"numeric\", numeric, num_features),\n",
    "        (\"categorical\", categorical, cat_features)\n",
    "    ]\n",
    ")\n",
    "\n",
    "\n",
    "knn_pipe = Pipeline(\n",
    "    steps=[('preprocessor', preprocessor),\n",
    "           ('model', KNeighborsRegressor(n_neighbors=3))\n",
    "           ]\n",
    ")\n"
   ]
  },
  {
   "cell_type": "code",
   "execution_count": null,
   "metadata": {},
   "outputs": [],
   "source": [
    "numeric = Pipeline(steps=[\n",
    "    ('impute', SimpleImputer(strategy='median')),\n",
    "    ('polynomial', PolynomialFeatures(degree = 2, include_bias=False)),\n",
    "    ('standardize', StandardScaler()),\n",
    "    ('percent', SelectPercentile(f_regression, percentile=40))])\n",
    "\n",
    "categorical = Pipeline(steps=[('impute2', SimpleImputer(strategy='most_frequent')),\n",
    "                     ('one_hot', OneHotEncoder(sparse_output=False, handle_unknown='ignore')),\n",
    "                     ('percent', SelectPercentile(f_regression, percentile=60))\n",
    "                     ])\n",
    "\n",
    "preprocessor = ColumnTransformer(\n",
    "    transformers=[\n",
    "        (\"numeric\", numeric, num_features),\n",
    "        (\"categorical\", categorical, cat_features)]\n",
    ")\n",
    "rfPipe = Pipeline([('preprocessor', preprocessor),\n",
    "           ('model', RandomForestRegressor())])"
   ]
  },
  {
   "cell_type": "code",
   "execution_count": null,
   "metadata": {},
   "outputs": [],
   "source": [
    "vr = VotingRegressor([('decision', tree_pipe), ('SVM', svr_pipe), ('KNN', knn_pipe), ('rfPipe', rfPipe)])\n",
    "\n",
    "pred = vr.fit(X_train, y_train).predict(test)"
   ]
  },
  {
   "cell_type": "code",
   "execution_count": null,
   "metadata": {},
   "outputs": [],
   "source": [
    "mean_absolute_error(y_test, pred)"
   ]
  }
 ],
 "metadata": {
  "kernelspec": {
   "display_name": "base",
   "language": "python",
   "name": "python3"
  },
  "language_info": {
   "codemirror_mode": {
    "name": "ipython",
    "version": 3
   },
   "file_extension": ".py",
   "mimetype": "text/x-python",
   "name": "python",
   "nbconvert_exporter": "python",
   "pygments_lexer": "ipython3",
   "version": "3.10.9"
  }
 },
 "nbformat": 4,
 "nbformat_minor": 2
}
